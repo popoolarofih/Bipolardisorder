{
 "cells": [
  {
   "cell_type": "code",
   "execution_count": 1,
   "id": "7037163f",
   "metadata": {},
   "outputs": [
    {
     "name": "stdout",
     "output_type": "stream",
     "text": [
      "WARNING:tensorflow:From C:\\Users\\user\\anaconda4\\Lib\\site-packages\\keras\\src\\losses.py:2976: The name tf.losses.sparse_softmax_cross_entropy is deprecated. Please use tf.compat.v1.losses.sparse_softmax_cross_entropy instead.\n",
      "\n",
      "WARNING:tensorflow:From C:\\Users\\user\\anaconda4\\Lib\\site-packages\\keras\\src\\backend.py:1398: The name tf.executing_eagerly_outside_functions is deprecated. Please use tf.compat.v1.executing_eagerly_outside_functions instead.\n",
      "\n",
      "WARNING:tensorflow:From C:\\Users\\user\\anaconda4\\Lib\\site-packages\\keras\\src\\optimizers\\__init__.py:309: The name tf.train.Optimizer is deprecated. Please use tf.compat.v1.train.Optimizer instead.\n",
      "\n",
      " * Serving Flask app '__main__'\n",
      " * Debug mode: on\n"
     ]
    },
    {
     "name": "stderr",
     "output_type": "stream",
     "text": [
      "WARNING: This is a development server. Do not use it in a production deployment. Use a production WSGI server instead.\n",
      " * Running on http://127.0.0.1:5000\n",
      "Press CTRL+C to quit\n",
      "127.0.0.1 - - [14/May/2024 07:12:44] \"GET / HTTP/1.1\" 200 -\n",
      "127.0.0.1 - - [14/May/2024 07:12:44] \"GET /static/styles.css HTTP/1.1\" 404 -\n"
     ]
    }
   ],
   "source": [
    "from flask import Flask, render_template, request\n",
    "import numpy as np\n",
    "from sklearn.preprocessing import StandardScaler\n",
    "from tensorflow.keras.models import load_model\n",
    "\n",
    "app = Flask(__name__)\n",
    "\n",
    "# Load the trained Keras model\n",
    "model = load_model('disorder_model.h5')\n",
    "\n",
    "# Compile the loaded model\n",
    "model.compile(optimizer='adam', loss='binary_crossentropy', metrics=['accuracy'])\n",
    "\n",
    "# Function to preprocess input data\n",
    "def preprocess_data(year, anxiety, drug_use, depression, disorder):\n",
    "    # Scale the input data\n",
    "    scaler = StandardScaler()\n",
    "    X = scaler.fit_transform(np.array([[year, anxiety, drug_use, depression, disorder]]))\n",
    "    return X\n",
    "\n",
    "# Function to make predictions\n",
    "def predict_bipolar_disorder(X):\n",
    "    prediction = model.predict(X)\n",
    "    return prediction\n",
    "\n",
    "@app.route('/')\n",
    "def home():\n",
    "    return render_template('index.html')\n",
    "\n",
    "@app.route('/predict', methods=['POST'])\n",
    "def predict():\n",
    "    if request.method == 'POST':\n",
    "        year = float(request.form['year'])\n",
    "        anxiety = float(request.form['anxiety'])\n",
    "        drug_use = float(request.form['drug_use'])\n",
    "        depression = float(request.form['depression'])\n",
    "        disorder = float(request.form['disorder'])\n",
    "        \n",
    "        # Preprocess the input data\n",
    "        X = preprocess_data(year, anxiety, drug_use, depression, disorder)\n",
    "        \n",
    "        # Make prediction\n",
    "        prediction = predict_bipolar_disorder(X)\n",
    "        \n",
    "        # Render the prediction result template with the prediction\n",
    "        return render_template('result.html', prediction=prediction[0][0])\n",
    "\n",
    "if __name__ == \"__main__\":\n",
    "    app.run(debug=True, use_reloader=False)\n"
   ]
  },
  {
   "cell_type": "code",
   "execution_count": null,
   "id": "bc1c3c1f",
   "metadata": {},
   "outputs": [],
   "source": []
  }
 ],
 "metadata": {
  "kernelspec": {
   "display_name": "Python 3 (ipykernel)",
   "language": "python",
   "name": "python3"
  },
  "language_info": {
   "codemirror_mode": {
    "name": "ipython",
    "version": 3
   },
   "file_extension": ".py",
   "mimetype": "text/x-python",
   "name": "python",
   "nbconvert_exporter": "python",
   "pygments_lexer": "ipython3",
   "version": "3.11.5"
  }
 },
 "nbformat": 4,
 "nbformat_minor": 5
}
