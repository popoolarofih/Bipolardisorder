{
 "cells": [
  {
   "cell_type": "code",
   "execution_count": null,
   "id": "dcf94e92",
   "metadata": {},
   "outputs": [],
   "source": []
  },
  {
   "cell_type": "code",
   "execution_count": 2,
   "id": "7037163f",
   "metadata": {},
   "outputs": [
    {
     "name": "stdout",
     "output_type": "stream",
     "text": [
      " * Serving Flask app '__main__'\n",
      " * Debug mode: on\n"
     ]
    },
    {
     "name": "stderr",
     "output_type": "stream",
     "text": [
      "WARNING: This is a development server. Do not use it in a production deployment. Use a production WSGI server instead.\n",
      " * Running on http://127.0.0.1:5000\n",
      "Press CTRL+C to quit\n",
      "127.0.0.1 - - [18/May/2024 16:10:11] \"GET / HTTP/1.1\" 200 -\n",
      "127.0.0.1 - - [18/May/2024 16:10:11] \"GET /static/styles.css HTTP/1.1\" 404 -\n"
     ]
    },
    {
     "name": "stdout",
     "output_type": "stream",
     "text": [
      "1/1 [==============================] - 1s 1s/step\n"
     ]
    },
    {
     "name": "stderr",
     "output_type": "stream",
     "text": [
      "127.0.0.1 - - [18/May/2024 16:10:23] \"POST /predict HTTP/1.1\" 200 -\n"
     ]
    },
    {
     "name": "stdout",
     "output_type": "stream",
     "text": [
      "1/1 [==============================] - 0s 45ms/step\n"
     ]
    },
    {
     "name": "stderr",
     "output_type": "stream",
     "text": [
      "127.0.0.1 - - [18/May/2024 16:10:40] \"POST /predict HTTP/1.1\" 200 -\n"
     ]
    },
    {
     "name": "stdout",
     "output_type": "stream",
     "text": [
      "1/1 [==============================] - 0s 45ms/step\n"
     ]
    },
    {
     "name": "stderr",
     "output_type": "stream",
     "text": [
      "127.0.0.1 - - [18/May/2024 16:11:42] \"POST /predict HTTP/1.1\" 200 -\n"
     ]
    },
    {
     "name": "stdout",
     "output_type": "stream",
     "text": [
      "1/1 [==============================] - 0s 57ms/step\n"
     ]
    },
    {
     "name": "stderr",
     "output_type": "stream",
     "text": [
      "127.0.0.1 - - [18/May/2024 16:11:51] \"POST /predict HTTP/1.1\" 200 -\n"
     ]
    },
    {
     "name": "stdout",
     "output_type": "stream",
     "text": [
      "1/1 [==============================] - 0s 33ms/step\n"
     ]
    },
    {
     "name": "stderr",
     "output_type": "stream",
     "text": [
      "127.0.0.1 - - [18/May/2024 16:11:57] \"POST /predict HTTP/1.1\" 200 -\n"
     ]
    },
    {
     "name": "stdout",
     "output_type": "stream",
     "text": [
      "1/1 [==============================] - 0s 34ms/step\n"
     ]
    },
    {
     "name": "stderr",
     "output_type": "stream",
     "text": [
      "127.0.0.1 - - [18/May/2024 16:12:09] \"POST /predict HTTP/1.1\" 200 -\n"
     ]
    },
    {
     "name": "stdout",
     "output_type": "stream",
     "text": [
      "1/1 [==============================] - 0s 35ms/step\n"
     ]
    },
    {
     "name": "stderr",
     "output_type": "stream",
     "text": [
      "127.0.0.1 - - [18/May/2024 16:12:22] \"POST /predict HTTP/1.1\" 200 -\n"
     ]
    },
    {
     "name": "stdout",
     "output_type": "stream",
     "text": [
      "1/1 [==============================] - 0s 48ms/step\n"
     ]
    },
    {
     "name": "stderr",
     "output_type": "stream",
     "text": [
      "127.0.0.1 - - [18/May/2024 16:12:34] \"POST /predict HTTP/1.1\" 200 -\n",
      "127.0.0.1 - - [18/May/2024 16:16:24] \"GET / HTTP/1.1\" 200 -\n",
      "127.0.0.1 - - [18/May/2024 16:16:24] \"GET /static/styles.css HTTP/1.1\" 404 -\n"
     ]
    },
    {
     "name": "stdout",
     "output_type": "stream",
     "text": [
      "1/1 [==============================] - 0s 62ms/step\n"
     ]
    },
    {
     "name": "stderr",
     "output_type": "stream",
     "text": [
      "127.0.0.1 - - [18/May/2024 16:18:16] \"POST /predict HTTP/1.1\" 200 -\n"
     ]
    },
    {
     "name": "stdout",
     "output_type": "stream",
     "text": [
      "1/1 [==============================] - 0s 50ms/step\n"
     ]
    },
    {
     "name": "stderr",
     "output_type": "stream",
     "text": [
      "127.0.0.1 - - [18/May/2024 16:23:44] \"POST /predict HTTP/1.1\" 200 -\n",
      "127.0.0.1 - - [18/May/2024 16:56:54] \"GET / HTTP/1.1\" 200 -\n",
      "127.0.0.1 - - [18/May/2024 16:56:54] \"GET /css/bootstrap.css HTTP/1.1\" 404 -\n",
      "127.0.0.1 - - [18/May/2024 16:56:54] \"GET /css/font-awesome.min.css HTTP/1.1\" 404 -\n",
      "127.0.0.1 - - [18/May/2024 16:56:54] \"GET /css/style.css HTTP/1.1\" 404 -\n",
      "127.0.0.1 - - [18/May/2024 16:56:54] \"GET /css/responsive.css HTTP/1.1\" 404 -\n",
      "127.0.0.1 - - [18/May/2024 16:56:55] \"GET /images/dots.png HTTP/1.1\" 404 -\n",
      "127.0.0.1 - - [18/May/2024 16:56:55] \"GET /images/slider-img.jpg HTTP/1.1\" 404 -\n",
      "127.0.0.1 - - [18/May/2024 16:56:55] \"GET /images/prev.png HTTP/1.1\" 404 -\n",
      "127.0.0.1 - - [18/May/2024 16:56:55] \"GET /js/jquery-3.4.1.min.js HTTP/1.1\" 404 -\n",
      "127.0.0.1 - - [18/May/2024 16:56:55] \"GET /js/bootstrap.js HTTP/1.1\" 404 -\n",
      "127.0.0.1 - - [18/May/2024 16:56:55] \"GET /images/next.png HTTP/1.1\" 404 -\n",
      "127.0.0.1 - - [18/May/2024 16:56:55] \"GET /js/custom.js HTTP/1.1\" 404 -\n",
      "127.0.0.1 - - [18/May/2024 16:56:55] \"GET /images/about-img.jpg HTTP/1.1\" 404 -\n",
      "127.0.0.1 - - [18/May/2024 16:56:55] \"GET /images/contact-img.jpg HTTP/1.1\" 404 -\n",
      "127.0.0.1 - - [18/May/2024 16:56:55] \"GET /images/slider-img.jpg HTTP/1.1\" 404 -\n",
      "127.0.0.1 - - [18/May/2024 16:57:25] \"GET / HTTP/1.1\" 200 -\n",
      "127.0.0.1 - - [18/May/2024 16:57:25] \"GET /css/bootstrap.css HTTP/1.1\" 404 -\n",
      "127.0.0.1 - - [18/May/2024 16:57:25] \"GET /css/font-awesome.min.css HTTP/1.1\" 404 -\n",
      "127.0.0.1 - - [18/May/2024 16:57:25] \"GET /images/dots.png HTTP/1.1\" 404 -\n",
      "127.0.0.1 - - [18/May/2024 16:57:25] \"GET /images/slider-img.jpg HTTP/1.1\" 404 -\n",
      "127.0.0.1 - - [18/May/2024 16:57:25] \"GET /images/prev.png HTTP/1.1\" 404 -\n",
      "127.0.0.1 - - [18/May/2024 16:57:25] \"GET /js/jquery-3.4.1.min.js HTTP/1.1\" 404 -\n",
      "127.0.0.1 - - [18/May/2024 16:57:25] \"GET /js/bootstrap.js HTTP/1.1\" 404 -\n",
      "127.0.0.1 - - [18/May/2024 16:57:25] \"GET /js/custom.js HTTP/1.1\" 404 -\n",
      "127.0.0.1 - - [18/May/2024 16:57:25] \"GET /images/next.png HTTP/1.1\" 404 -\n",
      "127.0.0.1 - - [18/May/2024 16:57:25] \"GET /images/about-img.jpg HTTP/1.1\" 404 -\n",
      "127.0.0.1 - - [18/May/2024 16:57:25] \"GET /images/contact-img.jpg HTTP/1.1\" 404 -\n",
      "127.0.0.1 - - [18/May/2024 16:57:25] \"GET /images/slider-img.jpg HTTP/1.1\" 404 -\n",
      "127.0.0.1 - - [18/May/2024 16:58:05] \"GET / HTTP/1.1\" 200 -\n",
      "127.0.0.1 - - [18/May/2024 16:58:05] \"GET /css/bootstrap.css HTTP/1.1\" 404 -\n",
      "127.0.0.1 - - [18/May/2024 16:58:05] \"GET /css/font-awesome.min.css HTTP/1.1\" 404 -\n",
      "127.0.0.1 - - [18/May/2024 16:58:05] \"GET /images/dots.png HTTP/1.1\" 404 -\n",
      "127.0.0.1 - - [18/May/2024 16:58:05] \"GET /images/slider-img.jpg HTTP/1.1\" 404 -\n",
      "127.0.0.1 - - [18/May/2024 16:58:05] \"GET /images/prev.png HTTP/1.1\" 404 -\n",
      "127.0.0.1 - - [18/May/2024 16:58:05] \"GET /js/jquery-3.4.1.min.js HTTP/1.1\" 404 -\n",
      "127.0.0.1 - - [18/May/2024 16:58:05] \"GET /js/bootstrap.js HTTP/1.1\" 404 -\n",
      "127.0.0.1 - - [18/May/2024 16:58:05] \"GET /js/custom.js HTTP/1.1\" 404 -\n",
      "127.0.0.1 - - [18/May/2024 16:58:05] \"GET /images/next.png HTTP/1.1\" 404 -\n",
      "127.0.0.1 - - [18/May/2024 16:58:05] \"GET /images/about-img.jpg HTTP/1.1\" 404 -\n",
      "127.0.0.1 - - [18/May/2024 16:58:05] \"GET /images/contact-img.jpg HTTP/1.1\" 404 -\n",
      "127.0.0.1 - - [18/May/2024 16:58:05] \"GET /images/slider-img.jpg HTTP/1.1\" 404 -\n",
      "127.0.0.1 - - [18/May/2024 16:58:22] \"GET / HTTP/1.1\" 200 -\n",
      "127.0.0.1 - - [18/May/2024 16:58:22] \"GET /css/bootstrap.css HTTP/1.1\" 404 -\n",
      "127.0.0.1 - - [18/May/2024 16:58:22] \"GET /css/font-awesome.min.css HTTP/1.1\" 404 -\n",
      "127.0.0.1 - - [18/May/2024 16:58:22] \"GET /images/slider-img.jpg HTTP/1.1\" 404 -\n",
      "127.0.0.1 - - [18/May/2024 16:58:22] \"GET /images/dots.png HTTP/1.1\" 404 -\n",
      "127.0.0.1 - - [18/May/2024 16:58:23] \"GET /js/jquery-3.4.1.min.js HTTP/1.1\" 404 -\n",
      "127.0.0.1 - - [18/May/2024 16:58:23] \"GET /images/prev.png HTTP/1.1\" 404 -\n",
      "127.0.0.1 - - [18/May/2024 16:58:23] \"GET /js/bootstrap.js HTTP/1.1\" 404 -\n",
      "127.0.0.1 - - [18/May/2024 16:58:23] \"GET /js/custom.js HTTP/1.1\" 404 -\n",
      "127.0.0.1 - - [18/May/2024 16:58:23] \"GET /images/next.png HTTP/1.1\" 404 -\n",
      "127.0.0.1 - - [18/May/2024 16:58:23] \"GET /images/about-img.jpg HTTP/1.1\" 404 -\n",
      "127.0.0.1 - - [18/May/2024 16:58:23] \"GET /images/contact-img.jpg HTTP/1.1\" 404 -\n",
      "127.0.0.1 - - [18/May/2024 16:58:23] \"GET /images/slider-img.jpg HTTP/1.1\" 404 -\n",
      "127.0.0.1 - - [18/May/2024 16:59:30] \"GET / HTTP/1.1\" 200 -\n",
      "127.0.0.1 - - [18/May/2024 16:59:30] \"GET /css/bootstrap.css HTTP/1.1\" 404 -\n",
      "127.0.0.1 - - [18/May/2024 16:59:30] \"GET /css/font-awesome.min.css HTTP/1.1\" 404 -\n",
      "127.0.0.1 - - [18/May/2024 16:59:30] \"GET /images/dots.png HTTP/1.1\" 404 -\n",
      "127.0.0.1 - - [18/May/2024 16:59:30] \"GET /images/slider-img.jpg HTTP/1.1\" 404 -\n",
      "127.0.0.1 - - [18/May/2024 16:59:30] \"GET /images/prev.png HTTP/1.1\" 404 -\n",
      "127.0.0.1 - - [18/May/2024 16:59:30] \"GET /js/custom.js HTTP/1.1\" 404 -\n",
      "127.0.0.1 - - [18/May/2024 16:59:30] \"GET /js/jquery-3.4.1.min.js HTTP/1.1\" 404 -\n",
      "127.0.0.1 - - [18/May/2024 16:59:30] \"GET /images/about-img.jpg HTTP/1.1\" 404 -\n",
      "127.0.0.1 - - [18/May/2024 16:59:30] \"GET /images/next.png HTTP/1.1\" 404 -\n",
      "127.0.0.1 - - [18/May/2024 16:59:30] \"GET /images/contact-img.jpg HTTP/1.1\" 404 -\n",
      "127.0.0.1 - - [18/May/2024 16:59:30] \"GET /images/slider-img.jpg HTTP/1.1\" 404 -\n",
      "127.0.0.1 - - [18/May/2024 16:59:49] \"GET / HTTP/1.1\" 200 -\n",
      "127.0.0.1 - - [18/May/2024 16:59:49] \"GET /css/bootstrap.css HTTP/1.1\" 404 -\n",
      "127.0.0.1 - - [18/May/2024 16:59:50] \"GET /css/font-awesome.min.css HTTP/1.1\" 404 -\n",
      "127.0.0.1 - - [18/May/2024 16:59:50] \"GET /images/dots.png HTTP/1.1\" 404 -\n",
      "127.0.0.1 - - [18/May/2024 16:59:50] \"GET /images/slider-img.jpg HTTP/1.1\" 404 -\n",
      "127.0.0.1 - - [18/May/2024 16:59:50] \"GET /images/prev.png HTTP/1.1\" 404 -\n",
      "127.0.0.1 - - [18/May/2024 16:59:50] \"GET /js/jquery-3.4.1.min.js HTTP/1.1\" 404 -\n",
      "127.0.0.1 - - [18/May/2024 16:59:50] \"GET /js/custom.js HTTP/1.1\" 404 -\n",
      "127.0.0.1 - - [18/May/2024 16:59:50] \"GET /images/next.png HTTP/1.1\" 404 -\n",
      "127.0.0.1 - - [18/May/2024 16:59:50] \"GET /images/about-img.jpg HTTP/1.1\" 404 -\n",
      "127.0.0.1 - - [18/May/2024 16:59:50] \"GET /images/contact-img.jpg HTTP/1.1\" 404 -\n",
      "127.0.0.1 - - [18/May/2024 16:59:50] \"GET /images/slider-img.jpg HTTP/1.1\" 404 -\n",
      "127.0.0.1 - - [18/May/2024 17:00:57] \"GET / HTTP/1.1\" 200 -\n",
      "127.0.0.1 - - [18/May/2024 17:00:57] \"GET /images/dots.png HTTP/1.1\" 404 -\n",
      "127.0.0.1 - - [18/May/2024 17:00:57] \"GET /images/slider-img.jpg HTTP/1.1\" 404 -\n",
      "127.0.0.1 - - [18/May/2024 17:00:57] \"GET /images/prev.png HTTP/1.1\" 404 -\n",
      "127.0.0.1 - - [18/May/2024 17:00:57] \"GET /js/jquery-3.4.1.min.js HTTP/1.1\" 404 -\n",
      "127.0.0.1 - - [18/May/2024 17:00:57] \"GET /images/next.png HTTP/1.1\" 404 -\n",
      "127.0.0.1 - - [18/May/2024 17:00:58] \"GET /js/custom.js HTTP/1.1\" 404 -\n",
      "127.0.0.1 - - [18/May/2024 17:00:58] \"GET /images/about-img.jpg HTTP/1.1\" 404 -\n",
      "127.0.0.1 - - [18/May/2024 17:00:58] \"GET /images/contact-img.jpg HTTP/1.1\" 404 -\n",
      "127.0.0.1 - - [18/May/2024 17:00:58] \"GET /images/slider-img.jpg HTTP/1.1\" 404 -\n",
      "127.0.0.1 - - [18/May/2024 17:01:19] \"GET / HTTP/1.1\" 200 -\n",
      "127.0.0.1 - - [18/May/2024 17:01:19] \"GET /images/dots.png HTTP/1.1\" 404 -\n",
      "127.0.0.1 - - [18/May/2024 17:01:19] \"GET /images/slider-img.jpg HTTP/1.1\" 404 -\n",
      "127.0.0.1 - - [18/May/2024 17:01:20] \"GET /images/prev.png HTTP/1.1\" 404 -\n",
      "127.0.0.1 - - [18/May/2024 17:01:20] \"GET /js/custom.js HTTP/1.1\" 404 -\n",
      "127.0.0.1 - - [18/May/2024 17:01:20] \"GET /js/jquery-3.4.1.min.js HTTP/1.1\" 404 -\n",
      "127.0.0.1 - - [18/May/2024 17:01:20] \"GET /images/next.png HTTP/1.1\" 404 -\n",
      "127.0.0.1 - - [18/May/2024 17:01:20] \"GET /images/about-img.jpg HTTP/1.1\" 404 -\n",
      "127.0.0.1 - - [18/May/2024 17:01:20] \"GET /images/contact-img.jpg HTTP/1.1\" 404 -\n",
      "127.0.0.1 - - [18/May/2024 17:01:20] \"GET /images/slider-img.jpg HTTP/1.1\" 404 -\n"
     ]
    },
    {
     "name": "stdout",
     "output_type": "stream",
     "text": [
      "1/1 [==============================] - 0s 53ms/step\n"
     ]
    },
    {
     "name": "stderr",
     "output_type": "stream",
     "text": [
      "127.0.0.1 - - [18/May/2024 17:02:01] \"POST /predict HTTP/1.1\" 200 -\n",
      "127.0.0.1 - - [18/May/2024 17:02:01] \"GET /css/bootstrap.css HTTP/1.1\" 404 -\n",
      "127.0.0.1 - - [18/May/2024 17:02:01] \"GET /css/font-awesome.min.css HTTP/1.1\" 404 -\n",
      "127.0.0.1 - - [18/May/2024 17:02:01] \"GET /css/style.css HTTP/1.1\" 404 -\n",
      "127.0.0.1 - - [18/May/2024 17:02:01] \"GET /css/responsive.css HTTP/1.1\" 404 -\n",
      "127.0.0.1 - - [18/May/2024 17:02:01] \"GET /js/jquery-3.4.1.min.js HTTP/1.1\" 404 -\n",
      "127.0.0.1 - - [18/May/2024 17:02:01] \"GET /js/bootstrap.js HTTP/1.1\" 404 -\n",
      "127.0.0.1 - - [18/May/2024 17:02:01] \"GET /js/custom.js HTTP/1.1\" 404 -\n",
      "127.0.0.1 - - [18/May/2024 17:02:59] \"GET / HTTP/1.1\" 200 -\n",
      "127.0.0.1 - - [18/May/2024 17:02:59] \"GET /images/dots.png HTTP/1.1\" 404 -\n",
      "127.0.0.1 - - [18/May/2024 17:02:59] \"GET /images/slider-img.jpg HTTP/1.1\" 404 -\n",
      "127.0.0.1 - - [18/May/2024 17:02:59] \"GET /images/prev.png HTTP/1.1\" 404 -\n",
      "127.0.0.1 - - [18/May/2024 17:03:00] \"GET /js/jquery-3.4.1.min.js HTTP/1.1\" 404 -\n",
      "127.0.0.1 - - [18/May/2024 17:03:00] \"GET /js/custom.js HTTP/1.1\" 404 -\n",
      "127.0.0.1 - - [18/May/2024 17:03:00] \"GET /images/next.png HTTP/1.1\" 404 -\n",
      "127.0.0.1 - - [18/May/2024 17:03:00] \"GET /images/about-img.jpg HTTP/1.1\" 404 -\n",
      "127.0.0.1 - - [18/May/2024 17:03:00] \"GET /images/slider-img.jpg HTTP/1.1\" 404 -\n",
      "127.0.0.1 - - [18/May/2024 17:04:09] \"GET / HTTP/1.1\" 200 -\n",
      "127.0.0.1 - - [18/May/2024 17:04:09] \"GET /images/dots.png HTTP/1.1\" 404 -\n",
      "127.0.0.1 - - [18/May/2024 17:04:09] \"GET /images/about-img.jpg HTTP/1.1\" 404 -\n",
      "127.0.0.1 - - [18/May/2024 17:04:09] \"GET /js/jquery-3.4.1.min.js HTTP/1.1\" 404 -\n",
      "127.0.0.1 - - [18/May/2024 17:04:09] \"GET /js/custom.js HTTP/1.1\" 404 -\n",
      "127.0.0.1 - - [18/May/2024 17:04:56] \"GET / HTTP/1.1\" 200 -\n",
      "127.0.0.1 - - [18/May/2024 17:04:56] \"GET /images/dots.png HTTP/1.1\" 404 -\n",
      "127.0.0.1 - - [18/May/2024 17:04:56] \"GET /images/about-img.jpg HTTP/1.1\" 404 -\n",
      "127.0.0.1 - - [18/May/2024 17:04:56] \"GET /js/jquery-3.4.1.min.js HTTP/1.1\" 404 -\n",
      "127.0.0.1 - - [18/May/2024 17:04:56] \"GET /js/custom.js HTTP/1.1\" 404 -\n",
      "127.0.0.1 - - [18/May/2024 17:05:11] \"GET / HTTP/1.1\" 200 -\n",
      "127.0.0.1 - - [18/May/2024 17:05:11] \"GET /images/dots.png HTTP/1.1\" 404 -\n",
      "127.0.0.1 - - [18/May/2024 17:05:11] \"GET /images/about-img.jpg HTTP/1.1\" 404 -\n",
      "127.0.0.1 - - [18/May/2024 17:05:11] \"GET /js/jquery-3.4.1.min.js HTTP/1.1\" 404 -\n",
      "127.0.0.1 - - [18/May/2024 17:05:11] \"GET /js/custom.js HTTP/1.1\" 404 -\n",
      "127.0.0.1 - - [18/May/2024 17:05:34] \"GET / HTTP/1.1\" 200 -\n",
      "127.0.0.1 - - [18/May/2024 17:05:35] \"GET /images/dots.png HTTP/1.1\" 404 -\n",
      "127.0.0.1 - - [18/May/2024 17:05:35] \"GET /images/about-img.jpg HTTP/1.1\" 404 -\n",
      "127.0.0.1 - - [18/May/2024 17:05:35] \"GET /js/jquery-3.4.1.min.js HTTP/1.1\" 404 -\n",
      "127.0.0.1 - - [18/May/2024 17:05:35] \"GET /js/custom.js HTTP/1.1\" 404 -\n",
      "127.0.0.1 - - [18/May/2024 17:05:53] \"GET / HTTP/1.1\" 200 -\n",
      "127.0.0.1 - - [18/May/2024 17:05:53] \"GET /images/dots.png HTTP/1.1\" 404 -\n",
      "127.0.0.1 - - [18/May/2024 17:05:53] \"GET /images/about-img.jpg HTTP/1.1\" 404 -\n",
      "127.0.0.1 - - [18/May/2024 17:05:53] \"GET /js/jquery-3.4.1.min.js HTTP/1.1\" 404 -\n",
      "127.0.0.1 - - [18/May/2024 17:05:53] \"GET /js/custom.js HTTP/1.1\" 404 -\n",
      "127.0.0.1 - - [18/May/2024 17:09:01] \"GET / HTTP/1.1\" 200 -\n",
      "127.0.0.1 - - [18/May/2024 17:09:01] \"GET /images/dots.png HTTP/1.1\" 404 -\n",
      "127.0.0.1 - - [18/May/2024 17:09:01] \"GET /images/about-img.jpg HTTP/1.1\" 404 -\n",
      "127.0.0.1 - - [18/May/2024 17:09:01] \"GET /js/jquery-3.4.1.min.js HTTP/1.1\" 404 -\n",
      "127.0.0.1 - - [18/May/2024 17:09:01] \"GET /js/custom.js HTTP/1.1\" 404 -\n",
      "127.0.0.1 - - [18/May/2024 17:10:00] \"GET / HTTP/1.1\" 200 -\n",
      "127.0.0.1 - - [18/May/2024 17:10:00] \"GET /images/dots.png HTTP/1.1\" 404 -\n",
      "127.0.0.1 - - [18/May/2024 17:10:00] \"GET /images/about-img.jpg HTTP/1.1\" 404 -\n",
      "127.0.0.1 - - [18/May/2024 17:10:00] \"GET /js/jquery-3.4.1.min.js HTTP/1.1\" 404 -\n",
      "127.0.0.1 - - [18/May/2024 17:10:00] \"GET /js/custom.js HTTP/1.1\" 404 -\n",
      "127.0.0.1 - - [18/May/2024 17:10:18] \"GET / HTTP/1.1\" 200 -\n",
      "127.0.0.1 - - [18/May/2024 17:10:18] \"GET /images/dots.png HTTP/1.1\" 404 -\n",
      "127.0.0.1 - - [18/May/2024 17:10:18] \"GET /images/about-img.jpg HTTP/1.1\" 404 -\n",
      "127.0.0.1 - - [18/May/2024 17:10:18] \"GET /js/jquery-3.4.1.min.js HTTP/1.1\" 404 -\n",
      "127.0.0.1 - - [18/May/2024 17:10:18] \"GET /js/custom.js HTTP/1.1\" 404 -\n",
      "127.0.0.1 - - [18/May/2024 17:10:33] \"GET / HTTP/1.1\" 200 -\n",
      "127.0.0.1 - - [18/May/2024 17:10:33] \"GET /images/dots.png HTTP/1.1\" 404 -\n",
      "127.0.0.1 - - [18/May/2024 17:10:33] \"GET /images/about-img.jpg HTTP/1.1\" 404 -\n",
      "127.0.0.1 - - [18/May/2024 17:10:33] \"GET /js/jquery-3.4.1.min.js HTTP/1.1\" 404 -\n",
      "127.0.0.1 - - [18/May/2024 17:10:33] \"GET /js/custom.js HTTP/1.1\" 404 -\n",
      "127.0.0.1 - - [18/May/2024 17:10:42] \"GET / HTTP/1.1\" 200 -\n",
      "127.0.0.1 - - [18/May/2024 17:10:42] \"GET /images/dots.png HTTP/1.1\" 404 -\n",
      "127.0.0.1 - - [18/May/2024 17:10:42] \"GET /images/about-img.jpg HTTP/1.1\" 404 -\n",
      "127.0.0.1 - - [18/May/2024 17:10:42] \"GET /js/jquery-3.4.1.min.js HTTP/1.1\" 404 -\n",
      "127.0.0.1 - - [18/May/2024 17:10:43] \"GET /js/custom.js HTTP/1.1\" 404 -\n",
      "127.0.0.1 - - [18/May/2024 17:10:58] \"GET / HTTP/1.1\" 200 -\n",
      "127.0.0.1 - - [18/May/2024 17:10:59] \"GET /images/dots.png HTTP/1.1\" 404 -\n",
      "127.0.0.1 - - [18/May/2024 17:10:59] \"GET /images/about-img.jpg HTTP/1.1\" 404 -\n",
      "127.0.0.1 - - [18/May/2024 17:10:59] \"GET /js/jquery-3.4.1.min.js HTTP/1.1\" 404 -\n",
      "127.0.0.1 - - [18/May/2024 17:10:59] \"GET /js/custom.js HTTP/1.1\" 404 -\n",
      "127.0.0.1 - - [18/May/2024 17:11:05] \"GET / HTTP/1.1\" 200 -\n",
      "127.0.0.1 - - [18/May/2024 17:11:06] \"GET /images/dots.png HTTP/1.1\" 404 -\n",
      "127.0.0.1 - - [18/May/2024 17:11:06] \"GET /images/about-img.jpg HTTP/1.1\" 404 -\n",
      "127.0.0.1 - - [18/May/2024 17:11:06] \"GET /js/jquery-3.4.1.min.js HTTP/1.1\" 404 -\n",
      "127.0.0.1 - - [18/May/2024 17:11:06] \"GET /js/custom.js HTTP/1.1\" 404 -\n",
      "127.0.0.1 - - [18/May/2024 17:11:12] \"GET / HTTP/1.1\" 200 -\n",
      "127.0.0.1 - - [18/May/2024 17:11:12] \"GET /images/dots.png HTTP/1.1\" 404 -\n",
      "127.0.0.1 - - [18/May/2024 17:11:12] \"GET /images/about-img.jpg HTTP/1.1\" 404 -\n",
      "127.0.0.1 - - [18/May/2024 17:11:12] \"GET /js/jquery-3.4.1.min.js HTTP/1.1\" 404 -\n",
      "127.0.0.1 - - [18/May/2024 17:11:12] \"GET /js/custom.js HTTP/1.1\" 404 -\n",
      "127.0.0.1 - - [18/May/2024 17:11:20] \"GET / HTTP/1.1\" 200 -\n",
      "127.0.0.1 - - [18/May/2024 17:11:20] \"GET /images/dots.png HTTP/1.1\" 404 -\n",
      "127.0.0.1 - - [18/May/2024 17:11:20] \"GET /images/about-img.jpg HTTP/1.1\" 404 -\n",
      "127.0.0.1 - - [18/May/2024 17:11:20] \"GET /js/jquery-3.4.1.min.js HTTP/1.1\" 404 -\n",
      "127.0.0.1 - - [18/May/2024 17:11:20] \"GET /js/custom.js HTTP/1.1\" 404 -\n",
      "127.0.0.1 - - [18/May/2024 17:11:29] \"GET / HTTP/1.1\" 200 -\n",
      "127.0.0.1 - - [18/May/2024 17:11:30] \"GET /images/dots.png HTTP/1.1\" 404 -\n",
      "127.0.0.1 - - [18/May/2024 17:11:30] \"GET /images/about-img.jpg HTTP/1.1\" 404 -\n",
      "127.0.0.1 - - [18/May/2024 17:11:30] \"GET /js/jquery-3.4.1.min.js HTTP/1.1\" 404 -\n",
      "127.0.0.1 - - [18/May/2024 17:11:30] \"GET /js/custom.js HTTP/1.1\" 404 -\n",
      "127.0.0.1 - - [18/May/2024 17:12:43] \"GET / HTTP/1.1\" 200 -\n",
      "127.0.0.1 - - [18/May/2024 17:12:43] \"GET /images/dots.png HTTP/1.1\" 404 -\n",
      "127.0.0.1 - - [18/May/2024 17:12:43] \"GET /images/about-img.jpg HTTP/1.1\" 404 -\n",
      "127.0.0.1 - - [18/May/2024 17:12:43] \"GET /js/jquery-3.4.1.min.js HTTP/1.1\" 404 -\n",
      "127.0.0.1 - - [18/May/2024 17:12:43] \"GET /js/custom.js HTTP/1.1\" 404 -\n"
     ]
    },
    {
     "name": "stdout",
     "output_type": "stream",
     "text": [
      "1/1 [==============================] - 0s 33ms/step\n"
     ]
    },
    {
     "name": "stderr",
     "output_type": "stream",
     "text": [
      "127.0.0.1 - - [18/May/2024 17:13:22] \"POST /predict HTTP/1.1\" 200 -\n",
      "127.0.0.1 - - [18/May/2024 17:13:22] \"GET /css/bootstrap.css HTTP/1.1\" 404 -\n",
      "127.0.0.1 - - [18/May/2024 17:13:22] \"GET /css/style.css HTTP/1.1\" 404 -\n",
      "127.0.0.1 - - [18/May/2024 17:13:22] \"GET /css/font-awesome.min.css HTTP/1.1\" 404 -\n",
      "127.0.0.1 - - [18/May/2024 17:13:22] \"GET /css/responsive.css HTTP/1.1\" 404 -\n",
      "127.0.0.1 - - [18/May/2024 17:13:22] \"GET /js/jquery-3.4.1.min.js HTTP/1.1\" 404 -\n",
      "127.0.0.1 - - [18/May/2024 17:13:22] \"GET /js/bootstrap.js HTTP/1.1\" 404 -\n",
      "127.0.0.1 - - [18/May/2024 17:13:22] \"GET /js/custom.js HTTP/1.1\" 404 -\n"
     ]
    },
    {
     "name": "stdout",
     "output_type": "stream",
     "text": [
      "1/1 [==============================] - 0s 61ms/step\n"
     ]
    },
    {
     "name": "stderr",
     "output_type": "stream",
     "text": [
      "127.0.0.1 - - [18/May/2024 17:14:58] \"POST /predict HTTP/1.1\" 200 -\n",
      "127.0.0.1 - - [18/May/2024 17:14:58] \"GET /css/bootstrap.css HTTP/1.1\" 404 -\n",
      "127.0.0.1 - - [18/May/2024 17:14:58] \"GET /css/font-awesome.min.css HTTP/1.1\" 404 -\n",
      "127.0.0.1 - - [18/May/2024 17:14:58] \"GET /css/style.css HTTP/1.1\" 404 -\n",
      "127.0.0.1 - - [18/May/2024 17:14:58] \"GET /css/responsive.css HTTP/1.1\" 404 -\n",
      "127.0.0.1 - - [18/May/2024 17:14:58] \"GET /js/jquery-3.4.1.min.js HTTP/1.1\" 404 -\n",
      "127.0.0.1 - - [18/May/2024 17:14:58] \"GET /js/bootstrap.js HTTP/1.1\" 404 -\n",
      "127.0.0.1 - - [18/May/2024 17:14:58] \"GET /js/custom.js HTTP/1.1\" 404 -\n"
     ]
    },
    {
     "name": "stdout",
     "output_type": "stream",
     "text": [
      "1/1 [==============================] - 0s 48ms/step\n"
     ]
    },
    {
     "name": "stderr",
     "output_type": "stream",
     "text": [
      "127.0.0.1 - - [18/May/2024 17:15:07] \"POST /predict HTTP/1.1\" 200 -\n",
      "127.0.0.1 - - [18/May/2024 17:15:07] \"GET /css/bootstrap.css HTTP/1.1\" 404 -\n",
      "127.0.0.1 - - [18/May/2024 17:15:07] \"GET /css/font-awesome.min.css HTTP/1.1\" 404 -\n",
      "127.0.0.1 - - [18/May/2024 17:15:07] \"GET /css/style.css HTTP/1.1\" 404 -\n",
      "127.0.0.1 - - [18/May/2024 17:15:07] \"GET /css/responsive.css HTTP/1.1\" 404 -\n",
      "127.0.0.1 - - [18/May/2024 17:15:07] \"GET /js/bootstrap.js HTTP/1.1\" 404 -\n",
      "127.0.0.1 - - [18/May/2024 17:15:07] \"GET /js/jquery-3.4.1.min.js HTTP/1.1\" 404 -\n",
      "127.0.0.1 - - [18/May/2024 17:15:07] \"GET /js/custom.js HTTP/1.1\" 404 -\n"
     ]
    },
    {
     "name": "stdout",
     "output_type": "stream",
     "text": [
      "1/1 [==============================] - 0s 45ms/step\n"
     ]
    },
    {
     "name": "stderr",
     "output_type": "stream",
     "text": [
      "127.0.0.1 - - [18/May/2024 17:15:56] \"POST /predict HTTP/1.1\" 200 -\n",
      "127.0.0.1 - - [18/May/2024 17:15:56] \"GET /css/bootstrap.css HTTP/1.1\" 404 -\n",
      "127.0.0.1 - - [18/May/2024 17:15:56] \"GET /css/font-awesome.min.css HTTP/1.1\" 404 -\n",
      "127.0.0.1 - - [18/May/2024 17:15:56] \"GET /css/style.css HTTP/1.1\" 404 -\n",
      "127.0.0.1 - - [18/May/2024 17:15:56] \"GET /css/responsive.css HTTP/1.1\" 404 -\n",
      "127.0.0.1 - - [18/May/2024 17:15:56] \"GET /js/jquery-3.4.1.min.js HTTP/1.1\" 404 -\n",
      "127.0.0.1 - - [18/May/2024 17:15:56] \"GET /js/bootstrap.js HTTP/1.1\" 404 -\n",
      "127.0.0.1 - - [18/May/2024 17:15:56] \"GET /js/custom.js HTTP/1.1\" 404 -\n"
     ]
    }
   ],
   "source": [
    "from flask import Flask, render_template, request\n",
    "import numpy as np\n",
    "from tensorflow.keras.models import load_model\n",
    "import joblib\n",
    "\n",
    "app = Flask(__name__)\n",
    "\n",
    "# Load the trained Keras model\n",
    "model = load_model('disorder_model.h5')\n",
    "\n",
    "# Load the scaler\n",
    "scaler = joblib.load('scaler.pkl')\n",
    "\n",
    "# Function to preprocess input data\n",
    "def preprocess_data(year, anxiety, drug_use, depression, disorder):\n",
    "    # Scale the input data using the loaded scaler\n",
    "    X = np.array([[year, anxiety, drug_use, depression, disorder]])\n",
    "    X_scaled = scaler.transform(X)\n",
    "    return X_scaled\n",
    "\n",
    "# Function to make predictions\n",
    "def predict_bipolar_disorder(X):\n",
    "    prediction = model.predict(X)\n",
    "    return prediction\n",
    "\n",
    "@app.route('/')\n",
    "def home():\n",
    "    return render_template('index.html')\n",
    "\n",
    "@app.route('/predict', methods=['POST'])\n",
    "    if request.method == 'POST':\n",
    "        year = float(request.form['year'])\n",
    "        anxiety = float(request.form['anxiety'])\n",
    "        drug_use = float(request.form['drug_use'])\n",
    "        depression = float(request.form['depression'])\n",
    "        disorder = float(request.form['disorder'])\n",
    "        \n",
    "        # Preprocess the input data\n",
    "        X = preprocess_data(year, anxiety, drug_use, depression, disorder)\n",
    "        \n",
    "        # Make prediction\n",
    "        prediction = predict_bipolar_disorder(X)\n",
    "        \n",
    "        # Render the prediction result template with the prediction\n",
    "        return render_template('result.html', prediction=prediction[0][0])\n",
    "\n",
    "if __name__ == \"__main__\":\n",
    "    app.run(debug=True, use_reloader=False)\n"
   ]
  },
  {
   "cell_type": "code",
   "execution_count": null,
   "id": "bc1c3c1f",
   "metadata": {},
   "outputs": [],
   "source": []
  }
 ],
 "metadata": {
  "kernelspec": {
   "display_name": "Python 3 (ipykernel)",
   "language": "python",
   "name": "python3"
  },
  "language_info": {
   "codemirror_mode": {
    "name": "ipython",
    "version": 3
   },
   "file_extension": ".py",
   "mimetype": "text/x-python",
   "name": "python",
   "nbconvert_exporter": "python",
   "pygments_lexer": "ipython3",
   "version": "3.11.5"
  }
 },
 "nbformat": 4,
 "nbformat_minor": 5
}
